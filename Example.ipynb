{
 "cells": [
  {
   "cell_type": "markdown",
   "metadata": {},
   "source": [
    "JupyterLabs"
   ]
  },
  {
   "cell_type": "markdown",
   "metadata": {},
   "source": [
    "Markdown = Text\n",
    "Markdown can be used to explain what the code is doing "
   ]
  },
  {
   "cell_type": "code",
   "execution_count": 2,
   "metadata": {},
   "outputs": [
    {
     "name": "stdout",
     "output_type": "stream",
     "text": [
      "then you can excecute the code and see it work in real-time\n"
     ]
    }
   ],
   "source": [
    "then = 'then you can excecute the code and '\n",
    "see = 'see it work in real-time'\n",
    "print(then + see)"
   ]
  },
  {
   "cell_type": "markdown",
   "metadata": {},
   "source": [
    "This helps from overusing comments and allows the user to better explain what's going on "
   ]
  },
  {
   "cell_type": "code",
   "execution_count": 1,
   "metadata": {},
   "outputs": [
    {
     "name": "stdout",
     "output_type": "stream",
     "text": [
      "its a great way to present ideas and code, all at the same time!\n"
     ]
    }
   ],
   "source": [
    "its = 'its a great way to present ideas and '\n",
    "code = 'code, all at the same time!'\n",
    "print(its+code)"
   ]
  },
  {
   "cell_type": "markdown",
   "metadata": {},
   "source": [
    "Python fully operates in JupyterLabs"
   ]
  },
  {
   "cell_type": "code",
   "execution_count": 6,
   "metadata": {},
   "outputs": [
    {
     "name": "stdout",
     "output_type": "stream",
     "text": [
      "This is awesome!\n",
      "This is still pretty awesome!\n"
     ]
    }
   ],
   "source": [
    "stuff = 'awesomeness'\n",
    "stuff2 = 'nope'\n",
    "def function(stuff):\n",
    "    if 'awesome' in stuff:\n",
    "        print('This is awesome!')\n",
    "    else:\n",
    "        print('This is still pretty awesome!')\n",
    "function(stuff)\n",
    "function(stuff2)"
   ]
  }
 ],
 "metadata": {
  "kernelspec": {
   "display_name": "Python 3",
   "language": "python",
   "name": "python3"
  },
  "language_info": {
   "codemirror_mode": {
    "name": "ipython",
    "version": 3
   },
   "file_extension": ".py",
   "mimetype": "text/x-python",
   "name": "python",
   "nbconvert_exporter": "python",
   "pygments_lexer": "ipython3",
   "version": "3.7.3"
  }
 },
 "nbformat": 4,
 "nbformat_minor": 2
}
